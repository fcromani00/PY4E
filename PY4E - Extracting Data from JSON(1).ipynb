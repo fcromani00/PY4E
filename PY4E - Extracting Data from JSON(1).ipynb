{
 "cells": [
  {
   "cell_type": "code",
   "execution_count": 1,
   "id": "6987b9d1",
   "metadata": {},
   "outputs": [
    {
     "name": "stdout",
     "output_type": "stream",
     "text": [
      "Enter location: http://py4e-data.dr-chuck.net/comments_1452167.json\n",
      "Retrieving  http://py4e-data.dr-chuck.net/comments_1452167.json\n",
      "Retrieved 2720 characters\n",
      "Count:  50\n",
      "Sum:  2488\n"
     ]
    }
   ],
   "source": [
    "import json\n",
    "import urllib.request, urllib.parse, urllib.error\n",
    "\n",
    "link = input(\"Enter location: \")\n",
    "print(\"Retrieving \", link)\n",
    "html = urllib.request.urlopen(link).read().decode()\n",
    "print(\"Retrieved\", len(html), \"characters\")\n",
    "\n",
    "try:\n",
    "    js = json.loads(html)\n",
    "except:\n",
    "    js = None\n",
    "    \n",
    "cn = 0\n",
    "sm = 0\n",
    "\n",
    "for item in js [\"comments\"]:\n",
    "    cn += 1\n",
    "    sm += int(item[\"count\"])\n",
    "    \n",
    "print(\"Count: \", cn)\n",
    "print(\"Sum: \", sm)"
   ]
  },
  {
   "cell_type": "code",
   "execution_count": null,
   "id": "6f2a6a61",
   "metadata": {},
   "outputs": [],
   "source": []
  }
 ],
 "metadata": {
  "kernelspec": {
   "display_name": "Python 3 (ipykernel)",
   "language": "python",
   "name": "python3"
  },
  "language_info": {
   "codemirror_mode": {
    "name": "ipython",
    "version": 3
   },
   "file_extension": ".py",
   "mimetype": "text/x-python",
   "name": "python",
   "nbconvert_exporter": "python",
   "pygments_lexer": "ipython3",
   "version": "3.9.12"
  }
 },
 "nbformat": 4,
 "nbformat_minor": 5
}
