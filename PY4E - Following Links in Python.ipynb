{
 "cells": [
  {
   "cell_type": "code",
   "execution_count": 17,
   "id": "e031a06b",
   "metadata": {},
   "outputs": [],
   "source": [
    "import urllib.request, urllib.parse, urllib.error\n",
    "from bs4 import BeautifulSoup\n",
    "import ssl\n"
   ]
  },
  {
   "cell_type": "code",
   "execution_count": 18,
   "id": "c55d5cdd",
   "metadata": {},
   "outputs": [],
   "source": [
    "ctx = ssl.create_default_context()\n",
    "ctx.check_hostname = False\n",
    "ctx.verify_mode = ssl.CERT_NONE\n"
   ]
  },
  {
   "cell_type": "code",
   "execution_count": 19,
   "id": "f803cd48",
   "metadata": {},
   "outputs": [
    {
     "name": "stdout",
     "output_type": "stream",
     "text": [
      "Enter count: 7\n",
      "Enter position: 18\n",
      "Enter - http://py4e-data.dr-chuck.net/known_by_Kiyaleigh.html\n"
     ]
    }
   ],
   "source": [
    "count = int(input(\"Enter count: \"))\n",
    "position = int(input(\"Enter position: \"))\n",
    "url = input('Enter - ')"
   ]
  },
  {
   "cell_type": "code",
   "execution_count": 21,
   "id": "8ab968e4",
   "metadata": {},
   "outputs": [
    {
     "name": "stdout",
     "output_type": "stream",
     "text": [
      "http://py4e-data.dr-chuck.net/known_by_Vasiliki.html\n",
      "http://py4e-data.dr-chuck.net/known_by_Arin.html\n",
      "http://py4e-data.dr-chuck.net/known_by_Spencer.html\n",
      "http://py4e-data.dr-chuck.net/known_by_Magdalene.html\n",
      "http://py4e-data.dr-chuck.net/known_by_Richey.html\n",
      "http://py4e-data.dr-chuck.net/known_by_Yuanyu.html\n",
      "http://py4e-data.dr-chuck.net/known_by_Aimiee.html\n",
      "http://py4e-data.dr-chuck.net/known_by_Aimiee.html It is this name\n"
     ]
    }
   ],
   "source": [
    "i = 0\n",
    "while i < count:\n",
    "    html = urllib.request.urlopen(url, context=ctx).read()\n",
    "    soup = BeautifulSoup(html, 'html.parser')\n",
    "    c = 0\n",
    "    tags = soup('a')\n",
    "    for tag in tags:\n",
    "        c = c + 1\n",
    "        if c == position:\n",
    "            print(tag.get('href', None))\n",
    "            url = tag.get('href', None)\n",
    "            i = i + 1\n",
    "print(url, \"It is this name\")      "
   ]
  },
  {
   "cell_type": "code",
   "execution_count": null,
   "id": "9d162b54",
   "metadata": {},
   "outputs": [],
   "source": []
  }
 ],
 "metadata": {
  "kernelspec": {
   "display_name": "Python 3 (ipykernel)",
   "language": "python",
   "name": "python3"
  },
  "language_info": {
   "codemirror_mode": {
    "name": "ipython",
    "version": 3
   },
   "file_extension": ".py",
   "mimetype": "text/x-python",
   "name": "python",
   "nbconvert_exporter": "python",
   "pygments_lexer": "ipython3",
   "version": "3.9.12"
  }
 },
 "nbformat": 4,
 "nbformat_minor": 5
}
