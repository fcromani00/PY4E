{
 "cells": [
  {
   "cell_type": "code",
   "execution_count": 1,
   "id": "53ade791",
   "metadata": {},
   "outputs": [
    {
     "name": "stdout",
     "output_type": "stream",
     "text": [
      "Enter the URL - http://py4e-data.dr-chuck.net/comments_1452166.xml\n",
      "2272\n"
     ]
    }
   ],
   "source": [
    "import urllib.request, urllib.response, urllib.error\n",
    "import xml.etree.ElementTree as ET\n",
    "\n",
    "\n",
    "url = input(\"Enter the URL - \")\n",
    "sum = 0\n",
    "\n",
    "html = urllib.request.urlopen(url).read()\n",
    "\n",
    "tree = ET.fromstring(html)\n",
    "\n",
    "count_list = tree.findall(\"comments/comment/count\")\n",
    "\n",
    "for value in count_list:\n",
    "    # count = value.find('count')\n",
    "    sum = sum + int(value.text)\n",
    "print(sum)"
   ]
  },
  {
   "cell_type": "code",
   "execution_count": null,
   "id": "63414d5d",
   "metadata": {},
   "outputs": [],
   "source": []
  }
 ],
 "metadata": {
  "kernelspec": {
   "display_name": "Python 3 (ipykernel)",
   "language": "python",
   "name": "python3"
  },
  "language_info": {
   "codemirror_mode": {
    "name": "ipython",
    "version": 3
   },
   "file_extension": ".py",
   "mimetype": "text/x-python",
   "name": "python",
   "nbconvert_exporter": "python",
   "pygments_lexer": "ipython3",
   "version": "3.9.12"
  }
 },
 "nbformat": 4,
 "nbformat_minor": 5
}
