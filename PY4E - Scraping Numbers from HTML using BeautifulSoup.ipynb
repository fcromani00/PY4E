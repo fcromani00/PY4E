{
 "cells": [
  {
   "cell_type": "code",
   "execution_count": 1,
   "id": "07f4d6c6",
   "metadata": {},
   "outputs": [],
   "source": [
    "from urllib.request import urlopen\n",
    "from bs4 import BeautifulSoup\n",
    "import ssl"
   ]
  },
  {
   "cell_type": "code",
   "execution_count": 2,
   "id": "cccf7f5f",
   "metadata": {},
   "outputs": [],
   "source": [
    "ctx = ssl.create_default_context()\n",
    "ctx.check_hostname = False\n",
    "ctx.verify_mode = ssl.CERT_NONE"
   ]
  },
  {
   "cell_type": "code",
   "execution_count": 3,
   "id": "77262274",
   "metadata": {},
   "outputs": [
    {
     "name": "stdout",
     "output_type": "stream",
     "text": [
      "Enter - http://py4e-data.dr-chuck.net/comments_1452164.html\n"
     ]
    }
   ],
   "source": [
    "url = input('Enter - ')\n",
    "html = urlopen(url, context=ctx).read()\n",
    "soup = BeautifulSoup(html, \"html.parser\")"
   ]
  },
  {
   "cell_type": "code",
   "execution_count": 9,
   "id": "14e7ec6c",
   "metadata": {},
   "outputs": [
    {
     "name": "stdout",
     "output_type": "stream",
     "text": [
      "100\n",
      "100\n",
      "99\n",
      "97\n",
      "94\n",
      "93\n",
      "90\n",
      "89\n",
      "89\n",
      "82\n",
      "79\n",
      "78\n",
      "77\n",
      "77\n",
      "77\n",
      "77\n",
      "75\n",
      "74\n",
      "73\n",
      "71\n",
      "69\n",
      "68\n",
      "64\n",
      "61\n",
      "57\n",
      "52\n",
      "47\n",
      "47\n",
      "40\n",
      "33\n",
      "33\n",
      "33\n",
      "29\n",
      "27\n",
      "27\n",
      "23\n",
      "21\n",
      "19\n",
      "18\n",
      "16\n",
      "15\n",
      "14\n",
      "14\n",
      "12\n",
      "12\n",
      "10\n",
      "8\n",
      "8\n",
      "2\n",
      "1\n",
      "2571\n"
     ]
    }
   ],
   "source": [
    "tags = soup('span')\n",
    "counts = 0\n",
    "for tag in tags:\n",
    "    print(tag.contents[0])\n",
    "    n = int(tag.contents[0])\n",
    "    counts = counts + n\n",
    "print(counts)"
   ]
  },
  {
   "cell_type": "code",
   "execution_count": null,
   "id": "99263f8e",
   "metadata": {},
   "outputs": [],
   "source": []
  }
 ],
 "metadata": {
  "kernelspec": {
   "display_name": "Python 3 (ipykernel)",
   "language": "python",
   "name": "python3"
  },
  "language_info": {
   "codemirror_mode": {
    "name": "ipython",
    "version": 3
   },
   "file_extension": ".py",
   "mimetype": "text/x-python",
   "name": "python",
   "nbconvert_exporter": "python",
   "pygments_lexer": "ipython3",
   "version": "3.9.12"
  }
 },
 "nbformat": 4,
 "nbformat_minor": 5
}
